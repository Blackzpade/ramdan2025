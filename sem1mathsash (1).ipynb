{
 "cells": [
  {
   "cell_type": "code",
   "execution_count": null,
   "id": "53384e5a-f319-4874-8aca-d0f4112737af",
   "metadata": {},
   "outputs": [],
   "source": [
    "Write a python program to create a matrix using numpy.\n"
   ]
  },
  {
   "cell_type": "code",
   "execution_count": 1,
   "id": "c0257116-ad8a-497f-a3e3-4ffd29d83a1f",
   "metadata": {},
   "outputs": [
    {
     "name": "stdin",
     "output_type": "stream",
     "text": [
      "Enter the number of rows:  2\n",
      "Enter the row 1 elements separated by spaces:  2 3\n",
      "Enter the row 2 elements separated by spaces:  5 6\n"
     ]
    },
    {
     "name": "stdout",
     "output_type": "stream",
     "text": [
      "The matrix you have entered is:\n",
      "[[2 3]\n",
      " [5 6]]\n"
     ]
    }
   ],
   "source": [
    "import numpy as np\n",
    "n = int(input(\"Enter the number of rows: \"));\n",
    "matrix = []\n",
    "for i in range(n):\n",
    "    row = list(map(int, input(f\"Enter the row {i + 1} elements separated by spaces: \").split()))\n",
    "    matrix.append(row)\n",
    "a = np.array(matrix)\n",
    "print(\"The matrix you have entered is:\")\n",
    "print(a)\n"
   ]
  },
  {
   "cell_type": "code",
   "execution_count": null,
   "id": "8d6b84ca-4da8-4215-ad92-04892050eab8",
   "metadata": {},
   "outputs": [],
   "source": [
    "Write a python program to show matrix addition and subtraction.\n"
   ]
  },
  {
   "cell_type": "code",
   "execution_count": 2,
   "id": "06037de6-e2ea-4b62-b41e-215b78641f61",
   "metadata": {},
   "outputs": [
    {
     "name": "stdin",
     "output_type": "stream",
     "text": [
      "Enter the number of rows of first matrix:  2\n",
      "Enter the number of rows of second matrix:  2\n"
     ]
    },
    {
     "name": "stdout",
     "output_type": "stream",
     "text": [
      "Enter the elements for the first matrix: \n"
     ]
    },
    {
     "name": "stdin",
     "output_type": "stream",
     "text": [
      "Enter the row 1 elements separated by spaces:  2 5\n",
      "Enter the row 2 elements separated by spaces:  4 5\n"
     ]
    },
    {
     "name": "stdout",
     "output_type": "stream",
     "text": [
      "Enter the elements for the second matrix: \n"
     ]
    },
    {
     "name": "stdin",
     "output_type": "stream",
     "text": [
      "Enter the row 1 elements separated by spaces:  9 6\n",
      "Enter the row 2 elements separated by spaces:  3 7\n"
     ]
    },
    {
     "name": "stdout",
     "output_type": "stream",
     "text": [
      "The matrices you have entered are: \n",
      " [[2 5]\n",
      " [4 5]] \n",
      "\n",
      " [[9 6]\n",
      " [3 7]]\n",
      "The sum of the two matrices is: \n",
      " [[11 11]\n",
      " [ 7 12]]\n",
      "The difference of the two matrices is: \n",
      " [[-7 -1]\n",
      " [ 1 -2]]\n"
     ]
    }
   ],
   "source": [
    "import numpy as np\n",
    "n1 = int(input(\"Enter the number of rows of first matrix: \"))\n",
    "n2 = int(input(\"Enter the number of rows of second matrix: \"))\n",
    "matrix1 = []\n",
    "matrix2 = []\n",
    "print(\"Enter the elements for the first matrix: \")\n",
    "for i in range(n1):\n",
    "    row = list(map(int, input(f\"Enter the row {i + 1} elements separated by spaces: \").split()))\n",
    "    matrix1.append(row)\n",
    "a = np.array(matrix1)\n",
    "print(\"Enter the elements for the second matrix: \")\n",
    "for i in range(n2):\n",
    "    row = list(map(int, input(f\"Enter the row {i + 1} elements separated by spaces: \").split()))\n",
    "    matrix2.append(row)\n",
    "b = np.array(matrix2)\n",
    "print(f\"The matrices you have entered are: \\n {a} \\n\\n {b}\")\n",
    "sum = a + b\n",
    "diff = a - b\n",
    "print(f\"The sum of the two matrices is: \\n {sum}\")\n",
    "print(f\"The difference of the two matrices is: \\n {diff}\")\n"
   ]
  },
  {
   "cell_type": "code",
   "execution_count": null,
   "id": "7ee76bed-94df-4922-80cd-1ee12e294b0b",
   "metadata": {},
   "outputs": [],
   "source": [
    "Write a python program to find the Hadamard product of two matrices.\n"
   ]
  },
  {
   "cell_type": "code",
   "execution_count": 3,
   "id": "b6c2f3fe-96e2-4df2-9e29-e76083dc6fe6",
   "metadata": {},
   "outputs": [
    {
     "name": "stdin",
     "output_type": "stream",
     "text": [
      "Enter the number of rows of first matrix:  2\n",
      "Enter the number of rows of second matrix:  2\n"
     ]
    },
    {
     "name": "stdout",
     "output_type": "stream",
     "text": [
      "Enter the elements for the first matrix: \n"
     ]
    },
    {
     "name": "stdin",
     "output_type": "stream",
     "text": [
      "Enter the row 1 elements separated by spaces:  3 5\n",
      "Enter the row 2 elements separated by spaces:  6 7\n"
     ]
    },
    {
     "name": "stdout",
     "output_type": "stream",
     "text": [
      "Enter the elements for the second matrix: \n"
     ]
    },
    {
     "name": "stdin",
     "output_type": "stream",
     "text": [
      "Enter the row 1 elements separated by spaces:  2 6\n",
      "Enter the row 2 elements separated by spaces:  9 3\n"
     ]
    },
    {
     "name": "stdout",
     "output_type": "stream",
     "text": [
      "The matrices you have entered are: \n",
      " [[3 5]\n",
      " [6 7]] \n",
      "\n",
      " [[2 6]\n",
      " [9 3]]\n",
      "The Hadamard product of the two matrices is: \n",
      " [[ 6 30]\n",
      " [54 21]]\n"
     ]
    }
   ],
   "source": [
    "import numpy as np\n",
    "n1 = int(input(\"Enter the number of rows of first matrix: \"))\n",
    "n2 = int(input(\"Enter the number of rows of second matrix: \"))\n",
    "matrix1 = []\n",
    "matrix2 = []\n",
    "print(\"Enter the elements for the first matrix: \")\n",
    "for i in range(n1):\n",
    "    row = list(map(int, input(f\"Enter the row {i + 1} elements separated by spaces: \").split()))\n",
    "    matrix1.append(row)\n",
    "a = np.array(matrix1)\n",
    "print(\"Enter the elements for the second matrix: \")\n",
    "for i in range(n2):\n",
    "    row = list(map(int, input(f\"Enter the row {i + 1} elements separated by spaces: \").split()))\n",
    "    matrix2.append(row)\n",
    "b = np.array(matrix2)\n",
    "print(f\"The matrices you have entered are: \\n {a} \\n\\n {b}\")\n",
    "print(f\"The Hadamard product of the two matrices is: \\n {np.multiply(a, b)}\")\n",
    "\n",
    "\n",
    "\n"
   ]
  },
  {
   "cell_type": "code",
   "execution_count": null,
   "id": "ca163368-1b24-4c79-92bf-f866e9223dcb",
   "metadata": {},
   "outputs": [],
   "source": [
    "Write a python program to perform matrix division\n"
   ]
  },
  {
   "cell_type": "code",
   "execution_count": 4,
   "id": "b7e90dbc-b019-4774-9cd2-27c924c25c54",
   "metadata": {},
   "outputs": [
    {
     "name": "stdin",
     "output_type": "stream",
     "text": [
      "Enter the number of rows of first matrix:  2\n",
      "Enter the number of rows of second matrix:  2\n"
     ]
    },
    {
     "name": "stdout",
     "output_type": "stream",
     "text": [
      "Enter the elements for the first matrix: \n"
     ]
    },
    {
     "name": "stdin",
     "output_type": "stream",
     "text": [
      "Enter the row 1 elements separated by spaces:  6 4\n",
      "Enter the row 2 elements separated by spaces:  7 4\n"
     ]
    },
    {
     "name": "stdout",
     "output_type": "stream",
     "text": [
      "Enter the elements for the second matrix: \n"
     ]
    },
    {
     "name": "stdin",
     "output_type": "stream",
     "text": [
      "Enter the row 1 elements separated by spaces:  1 5\n",
      "Enter the row 2 elements separated by spaces:  9 8\n"
     ]
    },
    {
     "name": "stdout",
     "output_type": "stream",
     "text": [
      "The matrices you have entered are: \n",
      " [[6 4]\n",
      " [7 4]] \n",
      "\n",
      " [[1 5]\n",
      " [9 8]]\n",
      "Matrices after division: \n",
      " [[6.    0.8  ]\n",
      " [0.778 0.5  ]]\n"
     ]
    }
   ],
   "source": [
    "import numpy as np\n",
    "np.set_printoptions(precision=3)\n",
    "n1 = int(input(\"Enter the number of rows of first matrix: \"))\n",
    "n2 = int(input(\"Enter the number of rows of second matrix: \"))\n",
    "matrix1 = []\n",
    "matrix2 = []\n",
    "print(\"Enter the elements for the first matrix: \")\n",
    "for i in range(n1):\n",
    "    row = list(map(int, input(f\"Enter the row {i + 1} elements separated by spaces: \").split()))\n",
    "    matrix1.append(row)\n",
    "a = np.array(matrix1)\n",
    "print(\"Enter the elements for the second matrix: \")\n",
    "for i in range(n2):\n",
    "    row = list(map(int, input(f\"Enter the row {i + 1} elements separated by spaces: \").split()))\n",
    "    matrix2.append(row)\n",
    "b = np.array(matrix2)\n",
    "print(f\"The matrices you have entered are: \\n {a} \\n\\n {b}\")\n",
    "print(f\"Matrices after division: \\n {a / b}\")\n"
   ]
  },
  {
   "cell_type": "code",
   "execution_count": null,
   "id": "4e8d34e2-217f-4066-b4c4-2f14df0afedc",
   "metadata": {},
   "outputs": [],
   "source": [
    "Write a python program to perform multiplication on two matrices.\n"
   ]
  },
  {
   "cell_type": "code",
   "execution_count": 5,
   "id": "1746434c-37ac-4d49-b66b-240ab0c2050d",
   "metadata": {},
   "outputs": [
    {
     "name": "stdin",
     "output_type": "stream",
     "text": [
      "Enter the number of rows of first matrix:  2\n",
      "Enter the number of rows of second matrix:  2\n"
     ]
    },
    {
     "name": "stdout",
     "output_type": "stream",
     "text": [
      "Enter the elements for the first matrix: \n"
     ]
    },
    {
     "name": "stdin",
     "output_type": "stream",
     "text": [
      "Enter the row 1 elements separated by spaces:  8 5\n",
      "Enter the row 2 elements separated by spaces:  2 3\n"
     ]
    },
    {
     "name": "stdout",
     "output_type": "stream",
     "text": [
      "Enter the elements for the second matrix: \n"
     ]
    },
    {
     "name": "stdin",
     "output_type": "stream",
     "text": [
      "Enter the row 1 elements separated by spaces:  6 4\n",
      "Enter the row 2 elements separated by spaces:  7 8\n"
     ]
    },
    {
     "name": "stdout",
     "output_type": "stream",
     "text": [
      "The matrices you have entered are: \n",
      " [[8 5]\n",
      " [2 3]] \n",
      "\n",
      " [[6 4]\n",
      " [7 8]]\n",
      "Matrices after multiplication: \n",
      " [[83 72]\n",
      " [33 32]]\n"
     ]
    }
   ],
   "source": [
    "import numpy as np\n",
    "n1 = int(input(\"Enter the number of rows of first matrix: \"))\n",
    "n2 = int(input(\"Enter the number of rows of second matrix: \"))\n",
    "matrix1 = []\n",
    "matrix2 = []\n",
    "print(\"Enter the elements for the first matrix: \")\n",
    "for i in range(n1):\n",
    "    row = list(map(int, input(f\"Enter the row {i + 1} elements separated by spaces: \").split()))\n",
    "    matrix1.append(row)\n",
    "a = np.array(matrix1)\n",
    "print(\"Enter the elements for the second matrix: \")\n",
    "for i in range(n2):\n",
    "    row = list(map(int, input(f\"Enter the row {i + 1} elements separated by spaces: \").split()))\n",
    "    matrix2.append(row)\n",
    "b = np.array(matrix2)\n",
    "print(f\"The matrices you have entered are: \\n {a} \\n\\n {b}\")\n",
    "print(f\"Matrices after multiplication: \\n {np.dot(a, b)}\")\n",
    "\n"
   ]
  },
  {
   "cell_type": "code",
   "execution_count": null,
   "id": "9f39b442-49b5-4a01-9a99-f59b532039b5",
   "metadata": {},
   "outputs": [],
   "source": [
    "Write a python program to perform scalar multiplication on two matrices.\n"
   ]
  },
  {
   "cell_type": "code",
   "execution_count": 6,
   "id": "835ac2ca-c5cb-43fc-82df-c902fd3950e1",
   "metadata": {},
   "outputs": [
    {
     "name": "stdin",
     "output_type": "stream",
     "text": [
      "Enter the number of rows of the matrix:  2\n"
     ]
    },
    {
     "name": "stdout",
     "output_type": "stream",
     "text": [
      "Enter the elements for the matrix: \n"
     ]
    },
    {
     "name": "stdin",
     "output_type": "stream",
     "text": [
      "Enter the row 1 elements separated by spaces:  8 6\n",
      "Enter the row 2 elements separated by spaces:  3 5\n"
     ]
    },
    {
     "name": "stdout",
     "output_type": "stream",
     "text": [
      "The matrix you have entered is: \n",
      " [[8 6]\n",
      " [3 5]]\n"
     ]
    },
    {
     "name": "stdin",
     "output_type": "stream",
     "text": [
      "Enter a value to multiply the matrix with:  4\n"
     ]
    },
    {
     "name": "stdout",
     "output_type": "stream",
     "text": [
      "The matrix after multiplication is: \n",
      " [[32 24]\n",
      " [12 20]]\n"
     ]
    }
   ],
   "source": [
    "import numpy as np\n",
    "n1 = int(input(\"Enter the number of rows of the matrix: \"))\n",
    "matrix1 = []\n",
    "print(\"Enter the elements for the matrix: \")\n",
    "for i in range(n1):\n",
    "    row = list(map(int, input(f\"Enter the row {i + 1} elements separated by spaces: \").split()))\n",
    "    matrix1.append(row)\n",
    "a = np.array(matrix1)\n",
    "print(f\"The matrix you have entered is: \\n {a}\")\n",
    "s = eval(input(\"Enter a value to multiply the matrix with: \"))\n",
    "print(f\"The matrix after multiplication is: \\n {a * s}\")\n"
   ]
  },
  {
   "cell_type": "code",
   "execution_count": null,
   "id": "3615f9f7-5184-4576-8973-e6b66e0829d6",
   "metadata": {},
   "outputs": [],
   "source": [
    "Write a python program to generate the upper triangular matrix and lower triangular matrix from a regular matrix\n"
   ]
  },
  {
   "cell_type": "code",
   "execution_count": 1,
   "id": "b5954171-e617-47ed-a38c-5338744a0ee0",
   "metadata": {},
   "outputs": [
    {
     "name": "stdin",
     "output_type": "stream",
     "text": [
      "Enter the number of rows of the matrix:  2\n"
     ]
    },
    {
     "name": "stdout",
     "output_type": "stream",
     "text": [
      "Enter the elements for the matrix: \n"
     ]
    },
    {
     "name": "stdin",
     "output_type": "stream",
     "text": [
      "Enter the row 1 elements separated by spaces:  5 6\n",
      "Enter the row 2 elements separated by spaces:  8 4\n"
     ]
    },
    {
     "name": "stdout",
     "output_type": "stream",
     "text": [
      "The matrix you have entered is: \n",
      " [[5 6]\n",
      " [8 4]]\n",
      "The upper triangular matrix is: \n",
      " [[5 6]\n",
      " [0 4]]\n",
      "The lower triangular matrix is: \n",
      " [[5 0]\n",
      " [8 4]]\n"
     ]
    }
   ],
   "source": [
    "import numpy as np\n",
    "n1 = int(input(\"Enter the number of rows of the matrix: \"))\n",
    "matrix1 = []\n",
    "print(\"Enter the elements for the matrix: \")\n",
    "for i in range(n1):\n",
    "    row = list(map(int, input(f\"Enter the row {i + 1} elements separated by spaces: \").split()))\n",
    "    matrix1.append(row)\n",
    "a = np.array(matrix1)\n",
    "print(f\"The matrix you have entered is: \\n {a}\")\n",
    "upper_triangular = np.triu(a)\n",
    "lower_triangular = np.tril(a)\n",
    "print(f\"The upper triangular matrix is: \\n {upper_triangular}\")\n",
    "print(f\"The lower triangular matrix is: \\n {lower_triangular}\")\n",
    "\n"
   ]
  },
  {
   "cell_type": "code",
   "execution_count": null,
   "id": "af38e65c-600c-4ad4-9499-1a2c9e729e17",
   "metadata": {},
   "outputs": [],
   "source": [
    "Write a python program to extract the diagonal vector from a matrix and create a diagonal matrix from a vector\n"
   ]
  },
  {
   "cell_type": "code",
   "execution_count": 2,
   "id": "7ab0bb41-81f8-40ff-8bb5-13ebcb2d4b03",
   "metadata": {},
   "outputs": [
    {
     "name": "stdin",
     "output_type": "stream",
     "text": [
      "Enter the number of rows of the matrix:  2\n"
     ]
    },
    {
     "name": "stdout",
     "output_type": "stream",
     "text": [
      "Enter the elements for the matrix: \n"
     ]
    },
    {
     "name": "stdin",
     "output_type": "stream",
     "text": [
      "Enter the row 1 elements separated by spaces:  3 6\n",
      "Enter the row 2 elements separated by spaces:  8 5\n"
     ]
    },
    {
     "name": "stdout",
     "output_type": "stream",
     "text": [
      "The matrix you have entered is: \n",
      " [[3 6]\n",
      " [8 5]]\n",
      "The diagonal elements are: [3 5]\n"
     ]
    },
    {
     "name": "stdin",
     "output_type": "stream",
     "text": [
      "Enter the diagonal elements:  4 5\n"
     ]
    },
    {
     "name": "stdout",
     "output_type": "stream",
     "text": [
      "The diagonal matrix is: \n",
      " [[4 0]\n",
      " [0 5]]\n"
     ]
    }
   ],
   "source": [
    "import numpy as np\n",
    "n1 = int(input(\"Enter the number of rows of the matrix: \"))\n",
    "matrix1 = []\n",
    "print(\"Enter the elements for the matrix: \")\n",
    "for i in range(n1):\n",
    "    row = list(map(int, input(f\"Enter the row {i + 1} elements separated by spaces: \").split()))\n",
    "    matrix1.append(row)\n",
    "a = np.array(matrix1)\n",
    "print(f\"The matrix you have entered is: \\n {a}\")\n",
    "diagonal = np.diag(a)\n",
    "print(f\"The diagonal elements are: {diagonal}\")\n",
    "diag_vector = [int(item) for item in input(\"Enter the diagonal elements: \").split()]\n",
    "diagonal_matrix = np.diagflat(diag_vector)\n",
    "print(f\"The diagonal matrix is: \\n {diagonal_matrix}\")\n",
    "\n",
    "\n"
   ]
  },
  {
   "cell_type": "code",
   "execution_count": null,
   "id": "758e5472-6939-46d0-86b6-d68ad04cc16c",
   "metadata": {},
   "outputs": [],
   "source": [
    "Write a python program to create an identity matrix\n"
   ]
  },
  {
   "cell_type": "code",
   "execution_count": 3,
   "id": "5ac4752f-bbc2-427d-be15-b305c0a2fe99",
   "metadata": {},
   "outputs": [
    {
     "name": "stdin",
     "output_type": "stream",
     "text": [
      "Enter the rank of the identity matrix you want:  6\n"
     ]
    },
    {
     "name": "stdout",
     "output_type": "stream",
     "text": [
      "The identity matrix is: \n",
      " [[1 0 0 0 0 0]\n",
      " [0 1 0 0 0 0]\n",
      " [0 0 1 0 0 0]\n",
      " [0 0 0 1 0 0]\n",
      " [0 0 0 0 1 0]\n",
      " [0 0 0 0 0 1]]\n"
     ]
    }
   ],
   "source": [
    "import numpy as np\n",
    "rank = int(input(\"Enter the rank of the identity matrix you want: \"))\n",
    "identity_matrix = np.identity(rank, dtype = int)\n",
    "print(f\"The identity matrix is: \\n {identity_matrix}\")\n",
    "\n"
   ]
  },
  {
   "cell_type": "code",
   "execution_count": null,
   "id": "be6dfef6-a184-4c45-bd06-7328076aa6d5",
   "metadata": {},
   "outputs": [],
   "source": [
    "Write a python program to generate a matrix of 1s using dimensions input.\n"
   ]
  },
  {
   "cell_type": "code",
   "execution_count": 4,
   "id": "b6483dd4-0ef7-40ab-9bac-2f54bf98f37c",
   "metadata": {},
   "outputs": [
    {
     "name": "stdin",
     "output_type": "stream",
     "text": [
      "Enter the number of rows of the matrix:  4\n",
      "Enter the number of columns of the matrix:  4\n"
     ]
    },
    {
     "name": "stdout",
     "output_type": "stream",
     "text": [
      "The ones matrix with 4 rows and 4 columns is:\n",
      "[[1 1 1 1]\n",
      " [1 1 1 1]\n",
      " [1 1 1 1]\n",
      " [1 1 1 1]]\n"
     ]
    }
   ],
   "source": [
    "import numpy as np\n",
    "n1 = int(input(\"Enter the number of rows of the matrix: \"))\n",
    "m1 = int(input(\"Enter the number of columns of the matrix: \"))\n",
    "ones_matrix = np.ones((n1, m1), dtype = int)\n",
    "print(f\"The ones matrix with {n1} rows and {m1} columns is:\\n{ones_matrix}\")\n",
    "\n"
   ]
  },
  {
   "cell_type": "code",
   "execution_count": null,
   "id": "3911e9f1-43ea-427a-b802-9efe0d165857",
   "metadata": {},
   "outputs": [],
   "source": [
    "Write a python program to return an array of 1s with the same shape and type as input array.\n"
   ]
  },
  {
   "cell_type": "code",
   "execution_count": 5,
   "id": "7da86fdf-ee79-4f43-97bb-72bc21913506",
   "metadata": {},
   "outputs": [
    {
     "name": "stdin",
     "output_type": "stream",
     "text": [
      "Enter the number of rows of the matrix:  2\n"
     ]
    },
    {
     "name": "stdout",
     "output_type": "stream",
     "text": [
      "Enter the elements for the matrix: \n"
     ]
    },
    {
     "name": "stdin",
     "output_type": "stream",
     "text": [
      "Enter the row 1 elements separated by spaces:  4 5\n",
      "Enter the row 2 elements separated by spaces:  6 9\n"
     ]
    },
    {
     "name": "stdout",
     "output_type": "stream",
     "text": [
      "The matrix you have entered is: \n",
      " [[4 5]\n",
      " [6 9]]\n",
      "The 1s matrix equivalent to the matrix you entered is: \n",
      "[[1 1]\n",
      " [1 1]]\n"
     ]
    }
   ],
   "source": [
    "import numpy as np\n",
    "n1 = int(input(\"Enter the number of rows of the matrix: \"))\n",
    "matrix1 = []\n",
    "print(\"Enter the elements for the matrix: \")\n",
    "for i in range(n1):\n",
    "    row = list(map(int, input(f\"Enter the row {i + 1} elements separated by spaces: \").split()))\n",
    "    matrix1.append(row)\n",
    "a = np.array(matrix1)\n",
    "print(f\"The matrix you have entered is: \\n {a}\")\n",
    "ones_matrix = np.ones_like(matrix1, dtype = int, order = 'K')\n",
    "print(f\"The 1s matrix equivalent to the matrix you entered is: \\n{ones_matrix}\")\n",
    "\n"
   ]
  },
  {
   "cell_type": "code",
   "execution_count": null,
   "id": "c9a8bc3c-2742-4ea6-b74c-235a21d0d312",
   "metadata": {},
   "outputs": [],
   "source": [
    "Write a python program to return an array of 0s with the same shape and type as input array.\n"
   ]
  },
  {
   "cell_type": "code",
   "execution_count": 6,
   "id": "735ff560-81f6-4281-ac35-bb6eeff93676",
   "metadata": {},
   "outputs": [
    {
     "name": "stdin",
     "output_type": "stream",
     "text": [
      "Enter the number of rows of the matrix:  2\n"
     ]
    },
    {
     "name": "stdout",
     "output_type": "stream",
     "text": [
      "Enter the elements for the matrix: \n"
     ]
    },
    {
     "name": "stdin",
     "output_type": "stream",
     "text": [
      "Enter the row 1 elements separated by spaces:  3 9\n",
      "Enter the row 2 elements separated by spaces:  6 4\n"
     ]
    },
    {
     "name": "stdout",
     "output_type": "stream",
     "text": [
      "The matrix you have entered is: \n",
      " [[3 9]\n",
      " [6 4]]\n",
      "The 0s matrix equivalent to the matrix you entered is: \n",
      "[[0 0]\n",
      " [0 0]]\n"
     ]
    }
   ],
   "source": [
    "import numpy as np\n",
    "n1 = int(input(\"Enter the number of rows of the matrix: \"))\n",
    "matrix1 = []\n",
    "print(\"Enter the elements for the matrix: \")\n",
    "for i in range(n1):\n",
    "    row = list(map(int, input(f\"Enter the row {i + 1} elements separated by spaces: \").split()))\n",
    "    matrix1.append(row)\n",
    "a = np.array(matrix1)\n",
    "print(f\"The matrix you have entered is: \\n {a}\")\n",
    "zeroes_matrix = np.zeros_like(matrix1, dtype = int, order = 'K')\n",
    "print(f\"The 0s matrix equivalent to the matrix you entered is: \\n{zeroes_matrix}\")\n",
    "\n"
   ]
  },
  {
   "cell_type": "code",
   "execution_count": null,
   "id": "5f675f01-8e05-4e8b-a08e-2be92a82ee3a",
   "metadata": {},
   "outputs": [],
   "source": [
    "Write a python program to find the transpose of a matrix.\n"
   ]
  },
  {
   "cell_type": "code",
   "execution_count": 7,
   "id": "8b200c3c-a015-47fd-adf1-2f25f015597f",
   "metadata": {},
   "outputs": [
    {
     "name": "stdin",
     "output_type": "stream",
     "text": [
      "Enter the number of rows of the matrix:  2\n"
     ]
    },
    {
     "name": "stdout",
     "output_type": "stream",
     "text": [
      "Enter the elements for the matrix: \n"
     ]
    },
    {
     "name": "stdin",
     "output_type": "stream",
     "text": [
      "Enter the row 1 elements separated by spaces:  3 5\n",
      "Enter the row 2 elements separated by spaces:  8 5\n"
     ]
    },
    {
     "name": "stdout",
     "output_type": "stream",
     "text": [
      "The matrix you have entered is: \n",
      " [[3 5]\n",
      " [8 5]]\n",
      "The transpose of the matrix you have entered is: \n",
      "[[3 8]\n",
      " [5 5]]\n"
     ]
    }
   ],
   "source": [
    "import numpy as np\n",
    "n1 = int(input(\"Enter the number of rows of the matrix: \"))\n",
    "matrix1 = []\n",
    "print(\"Enter the elements for the matrix: \")\n",
    "for i in range(n1):\n",
    "    row = list(map(int, input(f\"Enter the row {i + 1} elements separated by spaces: \").split()))\n",
    "    matrix1.append(row)\n",
    "a = np.array(matrix1)\n",
    "print(f\"The matrix you have entered is: \\n {a}\")\n",
    "t_matrix = np.transpose(a)\n",
    "print(f\"The transpose of the matrix you have entered is: \\n{t_matrix}\")\n",
    "\n"
   ]
  },
  {
   "cell_type": "code",
   "execution_count": null,
   "id": "7c273b95-5bc1-4179-82a9-62de384b165d",
   "metadata": {},
   "outputs": [],
   "source": [
    "Write a python program to find the inverse of a matrix."
   ]
  },
  {
   "cell_type": "code",
   "execution_count": 8,
   "id": "9bf59d72-9d87-4087-8574-961050f7583c",
   "metadata": {},
   "outputs": [
    {
     "name": "stdin",
     "output_type": "stream",
     "text": [
      "Enter the number of rows of the matrix:  2\n"
     ]
    },
    {
     "name": "stdout",
     "output_type": "stream",
     "text": [
      "Enter the elements for the matrix: \n"
     ]
    },
    {
     "name": "stdin",
     "output_type": "stream",
     "text": [
      "Enter the row 1 elements separated by spaces:  3 8\n",
      "Enter the row 2 elements separated by spaces:  6 4\n"
     ]
    },
    {
     "name": "stdout",
     "output_type": "stream",
     "text": [
      "The matrix you have entered is: \n",
      " [[3 8]\n",
      " [6 4]]\n",
      "The inverse of the matrix you have entered is: \n",
      "[[-0.11111111  0.22222222]\n",
      " [ 0.16666667 -0.08333333]]\n"
     ]
    }
   ],
   "source": [
    "import numpy as np\n",
    "n1 = int(input(\"Enter the number of rows of the matrix: \"))\n",
    "matrix1 = []\n",
    "print(\"Enter the elements for the matrix: \")\n",
    "for i in range(n1):\n",
    "    row = list(map(int, input(f\"Enter the row {i + 1} elements separated by spaces: \").split()))\n",
    "    matrix1.append(row)\n",
    "a = np.array(matrix1)\n",
    "print(f\"The matrix you have entered is: \\n {a}\")\n",
    "determinant = np.linalg.det(a)\n",
    "if(determinant == 0):\n",
    "    print(f\"The matrix you have entered is a singular matrix.\\nThe inverse of this matrix cannot be calculated.\")\n",
    "else:\n",
    "    inverse_matrix = np.linalg.inv(a)\n",
    "    print(f\"The inverse of the matrix you have entered is: \\n{inverse_matrix}\")\n"
   ]
  },
  {
   "cell_type": "code",
   "execution_count": null,
   "id": "aab7d294-22ba-40b0-a9e5-4b29aeb471fe",
   "metadata": {},
   "outputs": [],
   "source": [
    "Write a python program to find the trace of a matrix.\n"
   ]
  },
  {
   "cell_type": "code",
   "execution_count": 9,
   "id": "d7b0a752-681c-45a6-9d99-a8d155efffba",
   "metadata": {},
   "outputs": [
    {
     "name": "stdin",
     "output_type": "stream",
     "text": [
      "Enter the number of rows of the matrix:  2\n"
     ]
    },
    {
     "name": "stdout",
     "output_type": "stream",
     "text": [
      "Enter the elements for the matrix: \n"
     ]
    },
    {
     "name": "stdin",
     "output_type": "stream",
     "text": [
      "Enter the row 1 elements separated by spaces:  3 5\n",
      "Enter the row 2 elements separated by spaces:  7 5\n"
     ]
    },
    {
     "name": "stdout",
     "output_type": "stream",
     "text": [
      "The matrix you have entered is: \n",
      " [[3 5]\n",
      " [7 5]]\n",
      "The trace of the matrix you have entered is: 8\n"
     ]
    }
   ],
   "source": [
    "import numpy as np\n",
    "n1 = int(input(\"Enter the number of rows of the matrix: \"))\n",
    "matrix1 = []\n",
    "print(\"Enter the elements for the matrix: \")\n",
    "for i in range(n1):\n",
    "    row = list(map(int, input(f\"Enter the row {i + 1} elements separated by spaces: \").split()))\n",
    "    matrix1.append(row)\n",
    "a = np.array(matrix1)\n",
    "print(f\"The matrix you have entered is: \\n {a}\")\n",
    "trace = np.trace(a)\n",
    "print(f\"The trace of the matrix you have entered is: {trace}\")\n",
    "\n"
   ]
  },
  {
   "cell_type": "code",
   "execution_count": null,
   "id": "f1c3650f-5374-4350-b1c2-4a21dbde3c1b",
   "metadata": {},
   "outputs": [],
   "source": [
    "Write a python program to find the determinant of a matrix.\n"
   ]
  },
  {
   "cell_type": "code",
   "execution_count": 10,
   "id": "a5a4341c-b335-4d41-aae8-d3a9681e9fad",
   "metadata": {},
   "outputs": [
    {
     "name": "stdin",
     "output_type": "stream",
     "text": [
      "Enter the number of rows of the matrix:  2\n"
     ]
    },
    {
     "name": "stdout",
     "output_type": "stream",
     "text": [
      "Enter the elements for the matrix: \n"
     ]
    },
    {
     "name": "stdin",
     "output_type": "stream",
     "text": [
      "Enter the row 1 elements separated by spaces:  3 5\n",
      "Enter the row 2 elements separated by spaces:  7 4\n"
     ]
    },
    {
     "name": "stdout",
     "output_type": "stream",
     "text": [
      "The matrix you have entered is: \n",
      "[[3 5]\n",
      " [7 4]]\n",
      "The determinant of the matrix you have entered is: -23.0\n"
     ]
    }
   ],
   "source": [
    "import numpy as np\n",
    "n1 = int(input(\"Enter the number of rows of the matrix: \"))\n",
    "matrix1 = []\n",
    "print(\"Enter the elements for the matrix: \")\n",
    "for i in range(n1):\n",
    "    row = list(map(int, input(f\"Enter the row {i + 1} elements separated by spaces: \").split()))\n",
    "    matrix1.append(row)\n",
    "a = np.array(matrix1)\n",
    "print(f\"The matrix you have entered is: \\n{a}\")\n",
    "determinant = np.linalg.det(a)\n",
    "print(f\"The determinant of the matrix you have entered is: {determinant}\")\n",
    "\n"
   ]
  },
  {
   "cell_type": "code",
   "execution_count": null,
   "id": "136cc0e1-0d05-49fc-8ed2-e276379601a7",
   "metadata": {},
   "outputs": [],
   "source": [
    "Write a python program to find the rank of a matrix.\n"
   ]
  },
  {
   "cell_type": "code",
   "execution_count": 11,
   "id": "5f3cce35-b151-4ab4-b524-383f715d28a1",
   "metadata": {},
   "outputs": [
    {
     "name": "stdin",
     "output_type": "stream",
     "text": [
      "Enter the number of rows of the matrix:  2\n"
     ]
    },
    {
     "name": "stdout",
     "output_type": "stream",
     "text": [
      "Enter the elements for the matrix: \n"
     ]
    },
    {
     "name": "stdin",
     "output_type": "stream",
     "text": [
      "Enter the row 1 elements separated by spaces:  5 3\n",
      "Enter the row 2 elements separated by spaces:  6 7\n"
     ]
    },
    {
     "name": "stdout",
     "output_type": "stream",
     "text": [
      "The matrix you have entered is: \n",
      "[[5 3]\n",
      " [6 7]]\n",
      "The rank of the matrix you have entered is: 2\n"
     ]
    }
   ],
   "source": [
    "import numpy as np\n",
    "n1 = int(input(\"Enter the number of rows of the matrix: \"))\n",
    "matrix1 = []\n",
    "print(\"Enter the elements for the matrix: \")\n",
    "for i in range(n1):\n",
    "    row = list(map(int, input(f\"Enter the row {i + 1} elements separated by spaces: \").split()))\n",
    "    matrix1.append(row)\n",
    "a = np.array(matrix1)\n",
    "print(f\"The matrix you have entered is: \\n{a}\")\n",
    "rank = np.linalg.matrix_rank(a)\n",
    "print(f\"The rank of the matrix you have entered is: {rank}\")\n",
    "\n"
   ]
  },
  {
   "cell_type": "code",
   "execution_count": null,
   "id": "cc9236e3-a25c-4644-9ce4-56bb1795afbb",
   "metadata": {},
   "outputs": [],
   "source": [
    "Write a python program to find the sparsity of a matrix.\n"
   ]
  },
  {
   "cell_type": "code",
   "execution_count": 13,
   "id": "b0047637-6e28-468e-81c7-fcca27c42b95",
   "metadata": {},
   "outputs": [
    {
     "name": "stdin",
     "output_type": "stream",
     "text": [
      "Enter the number of rows of the matrix:  2\n",
      "Enter the number of columns of the matrix:  3\n"
     ]
    },
    {
     "name": "stdout",
     "output_type": "stream",
     "text": [
      "Enter the elements for the matrix: \n"
     ]
    },
    {
     "name": "stdin",
     "output_type": "stream",
     "text": [
      "Enter the row 1 elements separated by spaces:  4 5\n",
      "Enter the row 2 elements separated by spaces:  6 7\n"
     ]
    },
    {
     "name": "stdout",
     "output_type": "stream",
     "text": [
      "The matrix you have entered is: \n",
      "[[4 5]\n",
      " [6 7]]\n",
      "The sparsity of the matrix you have entered is: 2\n"
     ]
    }
   ],
   "source": [
    "import numpy as np\n",
    "\n",
    "n1 = int(input(\"Enter the number of rows of the matrix: \"))\n",
    "m1 = int(input(\"Enter the number of columns of the matrix: \"))  # Add this line to take number of columns as input\n",
    "matrix1 = []\n",
    "\n",
    "print(\"Enter the elements for the matrix: \")\n",
    "for i in range(n1):\n",
    "    row = list(map(int, input(f\"Enter the row {i + 1} elements separated by spaces: \").split()))\n",
    "    matrix1.append(row)\n",
    "\n",
    "a = np.array(matrix1)\n",
    "print(f\"The matrix you have entered is: \\n{a}\")\n",
    "\n",
    "sparsity = (n1 * m1) - np.count_nonzero(a)\n",
    "print(f\"The sparsity of the matrix you have entered is: {sparsity}\")\n"
   ]
  },
  {
   "cell_type": "code",
   "execution_count": null,
   "id": "3855c1e9-266e-44ca-ad82-7900e64926bc",
   "metadata": {},
   "outputs": [],
   "source": [
    "Write a python program to create two numpy arrays of random integers between 0 and 20 of shape (3, 3), perform matrix addition, \n",
    "multiplication and find the transpose of the product matrix.\n"
   ]
  },
  {
   "cell_type": "code",
   "execution_count": 14,
   "id": "e0e6d9f7-215d-44c2-b370-c94b823cacd5",
   "metadata": {},
   "outputs": [
    {
     "name": "stdout",
     "output_type": "stream",
     "text": [
      "valuvating...\n",
      "Creating two 3x3 matrices with random elements between 0 and 20...\n",
      "The matrices are created successfully \n",
      "[[11  5 11]\n",
      " [17  7  3]\n",
      " [18  0  6]]\n",
      "\n",
      "[[ 9  7 19]\n",
      " [ 3  5 18]\n",
      " [ 8  8 13]]\n",
      "Matrics after addition\n",
      "The sum of the two matrices is: \n",
      "[[20 12 30]\n",
      " [20 12 21]\n",
      " [26  8 19]]\n",
      "Matrics after multiplication\n",
      "The product of the two matrices is: \n",
      "[[202 190 442]\n",
      " [198 178 488]\n",
      " [210 174 420]]\n",
      "\n",
      "The transpose of the product matrix is: \n",
      "[[202 198 210]\n",
      " [190 178 174]\n",
      " [442 488 420]]\n"
     ]
    }
   ],
   "source": [
    "import numpy as np\n",
    "print(f\"valuvating...\")\n",
    "print(f\"Creating two 3x3 matrices with random elements between 0 and 20...\")\n",
    "a = np.random.randint(0, 20, (3, 3))\n",
    "b = np.random.randint(0, 20, (3, 3))\n",
    "\n",
    "print(f\"The matrices are created successfully \\n{a}\\n\\n{b}\")\n",
    "print(\"Matrics after addition\")\n",
    "sum = a + b\n",
    "print(f\"The sum of the two matrices is: \\n{sum}\")\n",
    "print(\"Matrics after multiplication\")\n",
    "product = np.dot(a, b)\n",
    "print(f\"The product of the two matrices is: \\n{product}\\n\")\n",
    "print(f\"The transpose of the product matrix is: \\n{np.transpose(product)}\")\n"
   ]
  },
  {
   "cell_type": "code",
   "execution_count": null,
   "id": "8c486464-39d8-4881-b211-919134b63095",
   "metadata": {},
   "outputs": [],
   "source": [
    "Write a python program to find the echelon form of a matrix and find its rank.\n"
   ]
  },
  {
   "cell_type": "code",
   "execution_count": 15,
   "id": "43e31e61-72c0-4288-926f-79bb40fbfc68",
   "metadata": {},
   "outputs": [
    {
     "name": "stdin",
     "output_type": "stream",
     "text": [
      "Enter the number of rows of the matrix:  2\n"
     ]
    },
    {
     "name": "stdout",
     "output_type": "stream",
     "text": [
      "Enter the elements for the matrix: \n"
     ]
    },
    {
     "name": "stdin",
     "output_type": "stream",
     "text": [
      "Enter the row 1 elements separated by spaces:  3 4\n",
      "Enter the row 2 elements separated by spaces:  5 6\n"
     ]
    },
    {
     "name": "stdout",
     "output_type": "stream",
     "text": [
      "The matrix you have entered is: \n",
      "[[3 4]\n",
      " [5 6]]\n",
      "Creating an echelon form of the matrix...\n",
      "The echelon form of the matrix you have entered is: \n",
      "[[3 4]\n",
      " [0 -2]]\n",
      "The rank of the matrix you have entered is: 2\n"
     ]
    }
   ],
   "source": [
    "import numpy as np\n",
    "import sympy as sp\n",
    "n1 = int(input(\"Enter the number of rows of the matrix: \"))\n",
    "matrix1 = []\n",
    "print(\"Enter the elements for the matrix: \")\n",
    "for i in range(n1):\n",
    "    row = list(map(int, input(f\"Enter the row {i + 1} elements separated by spaces: \").split()))\n",
    "    matrix1.append(row)\n",
    "a = np.array(matrix1)\n",
    "print(f\"The matrix you have entered is: \\n{a}\")\n",
    "print(\"Creating an echelon form of the matrix...\")\n",
    "echelon = sp.Matrix(a).echelon_form()\n",
    "print(f\"The echelon form of the matrix you have entered is: \\n{np.array(echelon)}\")\n",
    "print(f\"The rank of the matrix you have entered is: {echelon.rank()}\")\n",
    "\n"
   ]
  },
  {
   "cell_type": "code",
   "execution_count": null,
   "id": "d492c8b6-283c-42cf-af8f-ebc42ed82f30",
   "metadata": {},
   "outputs": [],
   "source": [
    "Write a python program to find the eigen values and eigen vectors\n"
   ]
  },
  {
   "cell_type": "code",
   "execution_count": 16,
   "id": "30405b47-3e2a-4510-82b6-f018d7f957a9",
   "metadata": {},
   "outputs": [
    {
     "name": "stdin",
     "output_type": "stream",
     "text": [
      "Enter the number of rows of the matrix:  2\n"
     ]
    },
    {
     "name": "stdout",
     "output_type": "stream",
     "text": [
      "Enter the elements for the matrix: \n"
     ]
    },
    {
     "name": "stdin",
     "output_type": "stream",
     "text": [
      "Enter the row 1 elements separated by spaces:  3 4\n",
      "Enter the row 2 elements separated by spaces:  5 6\n"
     ]
    },
    {
     "name": "stdout",
     "output_type": "stream",
     "text": [
      "The eigen values of the matrix you have entered are: \n",
      "[-0.22  9.22]\n",
      "The eigen vectors of the matrix you have entered are: \n",
      "[[-0.78 -0.54]\n",
      " [ 0.63 -0.84]]\n"
     ]
    }
   ],
   "source": [
    "import numpy as np\n",
    "np.set_printoptions(precision=2)\n",
    "n1 = int(input(\"Enter the number of rows of the matrix: \"))\n",
    "matrix1 = []\n",
    "print(\"Enter the elements for the matrix: \")\n",
    "for i in range(n1):\n",
    "    row = list(map(int, input(f\"Enter the row {i + 1} elements separated by spaces: \").split()))\n",
    "    matrix1.append(row)\n",
    "a = np.array(matrix1)\n",
    "eigen_values, eigen_vectors = np.linalg.eig(a)\n",
    "print(f\"The eigen values of the matrix you have entered are: \\n{eigen_values}\")\n",
    "print(f\"The eigen vectors of the matrix you have entered are: \\n{eigen_vectors}\")\n"
   ]
  },
  {
   "cell_type": "code",
   "execution_count": null,
   "id": "8fe38a3b-b2c5-4e3f-b8f1-415252923b11",
   "metadata": {},
   "outputs": [],
   "source": [
    "Write a python program to find the cosine similarity between two vectors.\n"
   ]
  },
  {
   "cell_type": "code",
   "execution_count": 17,
   "id": "5292ee40-5982-407d-94c9-57ca28b93fe7",
   "metadata": {},
   "outputs": [
    {
     "name": "stdin",
     "output_type": "stream",
     "text": [
      "Enter the first vector, each value must be separated by a space:   3 4 5\n",
      "Enter the first vector, each value must be separated by a space:  4 5 7\n"
     ]
    },
    {
     "name": "stdout",
     "output_type": "stream",
     "text": [
      "The cosine similarity of the two vectors v1<3, 4, 5> and v2<4, 5, 7> is 0.9987770299499059\n"
     ]
    }
   ],
   "source": [
    "import numpy as np\n",
    "v1 = list(map(int, input(\"Enter the first vector, each value must be separated by a space: \").split()))\n",
    "v2 = list(map(int, input(\"Enter the first vector, each value must be separated by a space: \").split()))\n",
    "\n",
    "dp = np.dot(v1, v2)\n",
    "norm_v1 = np.linalg.norm(v1)\n",
    "norm_v2 = np.linalg.norm(v2)\n",
    "\n",
    "sim = dp / ( norm_v1 * norm_v2 )\n",
    "\n",
    "print(f\"The cosine similarity of the two vectors v1<{v1[0]}, {v1[1]}, {v1[2]}> and v2<{v2[0]}, {v2[1]}, {v2[2]}> is {sim}\")\n"
   ]
  },
  {
   "cell_type": "code",
   "execution_count": null,
   "id": "be26160f-70ee-4db1-b7a6-05a3f709399e",
   "metadata": {},
   "outputs": [],
   "source": [
    "Write a python program to find whether two vectors are orthogonal or not.\n"
   ]
  },
  {
   "cell_type": "code",
   "execution_count": 18,
   "id": "bc804017-1132-4e0e-87cc-5e6339e822ad",
   "metadata": {},
   "outputs": [
    {
     "name": "stdin",
     "output_type": "stream",
     "text": [
      "Enter the first vector, each value must be separated by a space:  2 4 6\n",
      "Enter the first vector, each value must be separated by a space:  7 4 3\n"
     ]
    },
    {
     "name": "stdout",
     "output_type": "stream",
     "text": [
      "The two vectors v1<2, 4, 6> and v2<7, 4, 3> intersect at an angle of 41.785580637555334 and are not orthogonal.\n"
     ]
    }
   ],
   "source": [
    "import numpy as np\n",
    "import math\n",
    "v1 = list(map(int, input(\"Enter the first vector, each value must be separated by a space: \").split()))\n",
    "v2 = list(map(int, input(\"Enter the first vector, each value must be separated by a space: \").split()))\n",
    "dp = np.dot(v1, v2)\n",
    "if dp == 0:\n",
    "    print(f\"The two vectors v1<{v1[0]}, {v1[1]}, {v1[2]}> and v2<{v2[0]}, {v2[1]}, {v2[2]}> are orthogonal.\")\n",
    "else:\n",
    "    a = math.degrees(math.acos(dp/(np.linalg.norm(v1) * np.linalg.norm(v2))))\n",
    "    print(f\"The two vectors v1<{v1[0]}, {v1[1]}, {v1[2]}> and v2<{v2[0]}, {v2[1]}, {v2[2]}> intersect at an angle of {a} and are not orthogonal.\")\n",
    "\n"
   ]
  },
  {
   "cell_type": "code",
   "execution_count": null,
   "id": "65d5782a-b6df-49e8-9950-213dc58cae49",
   "metadata": {},
   "outputs": [],
   "source": [
    "Write a python program to find the norms of a given vector.\n"
   ]
  },
  {
   "cell_type": "code",
   "execution_count": 20,
   "id": "9f49d3e8-50a3-4989-9f93-b7e949818779",
   "metadata": {},
   "outputs": [
    {
     "name": "stdin",
     "output_type": "stream",
     "text": [
      "Enter the vector, each value must be separated by a space:  5 4\n"
     ]
    },
    {
     "name": "stdout",
     "output_type": "stream",
     "text": [
      "The L1 norm of the vector v [5, 4] is 9.0\n",
      "The L2 norm of the vector v [5, 4] is 6.4031242374328485\n",
      "The squared L2 norm of the vector v [5, 4] is 41.0\n",
      "The max norm of the vector v [5, 4] is 5.0\n"
     ]
    }
   ],
   "source": [
    "import numpy as np\n",
    "v1 = list(map(int, input(\"Enter the vector, each value must be separated by a space: \").split()))\n",
    "l1 = np.linalg.norm(v1, 1)\n",
    "l2 = np.linalg.norm(v1, 2)\n",
    "sqrd_l2 = np.linalg.norm(v1, 2) ** 2\n",
    "max_l = np.linalg.norm(v1, np.inf)\n",
    "print(f\"The L1 norm of the vector v {v1} is {l1}\")\n",
    "print(f\"The L2 norm of the vector v {v1} is {l2}\")\n",
    "print(f\"The squared L2 norm of the vector v {v1} is {sqrd_l2}\")\n",
    "print(f\"The max norm of the vector v {v1} is {max_l}\")\n",
    "\n"
   ]
  },
  {
   "cell_type": "code",
   "execution_count": null,
   "id": "9fcf660d-8482-49c7-8f77-42fda72b54e1",
   "metadata": {},
   "outputs": [],
   "source": [
    "Write a python program to show triangle inequality of two vectors.\n"
   ]
  },
  {
   "cell_type": "code",
   "execution_count": 21,
   "id": "79292a41-07de-4ed6-a1de-a119ee5c9452",
   "metadata": {},
   "outputs": [
    {
     "name": "stdin",
     "output_type": "stream",
     "text": [
      "Enter the first vector, each value must be separated by a space:  3 4 5\n",
      "Enter the second vector, each value must be separated by a space:  8 7 5\n"
     ]
    },
    {
     "name": "stdout",
     "output_type": "stream",
     "text": [
      "||[3, 4, 5] + [8, 7, 5]|| is 18.49324200890693\n",
      "\n",
      "||[3, 4, 5]|| + ||[8, 7, 5]||is 18.818407936336207\n",
      "\n",
      "Therefore, ||v1 + v2|| <= ||v1|| + ||v2||\n"
     ]
    }
   ],
   "source": [
    "import numpy as np\n",
    "v1 = list(map(int, input(\"Enter the first vector, each value must be separated by a space: \").split()))\n",
    "v2 = list(map(int, input(\"Enter the second vector, each value must be separated by a space: \").split()))\n",
    "norm_sum = np.linalg.norm(np.add(v1, v2))\n",
    "sum_norm = np.add(np.linalg.norm(v1), np.linalg.norm(v2))\n",
    "print(f\"||{v1} + {v2}|| is {norm_sum}\\n\")\n",
    "print(f\"||{v1}|| + ||{v2}||is {sum_norm}\\n\")\n",
    "if norm_sum <= sum_norm:\n",
    "    print(\"Therefore, ||v1 + v2|| <= ||v1|| + ||v2||\")\n",
    "\n"
   ]
  },
  {
   "cell_type": "code",
   "execution_count": null,
   "id": "eec7aa1d-52f5-44b1-9c1e-94200f331741",
   "metadata": {},
   "outputs": [],
   "source": [
    "Write a python program to show linearity of a vector.\n"
   ]
  },
  {
   "cell_type": "code",
   "execution_count": 23,
   "id": "61c3e690-90e4-41ae-b7c1-4aa7e861b71b",
   "metadata": {},
   "outputs": [
    {
     "name": "stdin",
     "output_type": "stream",
     "text": [
      "Enter the vector, each value must be separated by a space:  6 7 8\n",
      "Enter a scalar quantity:  3\n"
     ]
    },
    {
     "name": "stdout",
     "output_type": "stream",
     "text": [
      "||3 . [6, 7, 8]|| is 36.61966684720111\n",
      "3 . ||[6, 7, 8]|| is 36.6196668472011\n"
     ]
    }
   ],
   "source": [
    "import numpy as np\n",
    "v1 = list(map(int, input(\"Enter the vector, each value must be separated by a space: \").split()))\n",
    "sc = eval(input(\"Enter a scalar quantity: \"))\n",
    "norm_sc_v1 = np.linalg.norm(np.multiply(v1, sc))\n",
    "sc_norm_v1 = np.multiply(np.linalg.norm(v1), sc)\n",
    "print(f\"||{sc} . {v1}|| is {norm_sc_v1}\")\n",
    "print(f\"{sc} . ||{v1}|| is {sc_norm_v1}\")\n",
    "if norm_sc_v1 == sc_norm_v1:\n",
    "    print(f\"Therefore, ||{sc} . {v1}|| = {sc} . ||{v1}||\")\n",
    "\n"
   ]
  },
  {
   "cell_type": "code",
   "execution_count": null,
   "id": "1b59f253-bdfd-4713-8b3a-a787f8d43f74",
   "metadata": {},
   "outputs": [],
   "source": [
    "Write a python program to show the axioms associated with a vector space.\n"
   ]
  },
  {
   "cell_type": "code",
   "execution_count": 24,
   "id": "56787b45-5362-4bdd-b870-e5a056dc9860",
   "metadata": {},
   "outputs": [
    {
     "name": "stdin",
     "output_type": "stream",
     "text": [
      "Enter the first vector, each value must be separated by a space:  3 5\n",
      "Enter the second vector, each value must be separated by a space:  8 6\n",
      "Enter the third vector, each value must be separated by a space:  5 4\n",
      "Enter first scalar quantity:  4\n",
      "Enter second scalar quantity:  7\n"
     ]
    },
    {
     "name": "stdout",
     "output_type": "stream",
     "text": [
      "Associativity of addition\n",
      "( [3, 5] + [8, 6] ) + [5, 4] = [16 15]\n",
      "[3, 5] + ( [8, 6] + [5, 4] ) = [16 15]\n",
      "\n",
      "Commutativity of addition\n",
      "[3, 5] + [8, 6] = [11 11]\n",
      "[8, 6] + [3, 5] = [11 11]\n",
      "\n",
      "Identity element of addition\n",
      "[3, 5] + 0 = [3 5]\n",
      "Which is equal to [3, 5]\n",
      "\n",
      "Inverse element of addition\n",
      "[3, 5] + [-3 -5] = [0 0]\n",
      "\n",
      "Distributivity of scalar mutliplication over vector addition\n",
      "4 . ([3, 5] + [8, 6]) = [44 44]\n",
      "4 . [3, 5] + 4 . [8, 6]) = [44 44]\n",
      "4 . ([3, 5] + [8, 6]) = 4 . [3, 5] + 4 . [8, 6]\n",
      "\n",
      "Distributivity of scalar mutliplication over field addition\n",
      "(4 + 7) . [3, 5] = [33 55]\n",
      "4 . [3, 5] + 7 . [8, 6] = [68 62]\n",
      "\n",
      "Compatability of scalar mutliplication over field mutliplication\n",
      "4 . (7 . [3, 5]) = [ 84 140]\n",
      "4 . 7 . ([3, 5]) = [ 84 140]\n",
      "4 . (7 . [3, 5]) = 4 . 7 . ([3, 5])\n",
      "\n",
      "Identity element of scalar mutliplication\n",
      "1 . [3, 5] = [3 5]\n",
      "Which is equal to [3, 5]\n",
      "\n"
     ]
    }
   ],
   "source": [
    "import numpy as np\n",
    "v1 = list(map(int, input(\"Enter the first vector, each value must be separated by a space: \").split()))\n",
    "v2 = list(map(int, input(\"Enter the second vector, each value must be separated by a space: \").split()))\n",
    "v3 = list(map(int, input(\"Enter the third vector, each value must be separated by a space: \").split()))\n",
    "sc1 = eval(input(\"Enter first scalar quantity: \"))\n",
    "sc2 = eval(input(\"Enter second scalar quantity: \"))\n",
    "\n",
    "print(\"Associativity of addition\")\n",
    "print(f\"( {v1} + {v2} ) + {v3} = {np.add(np.add(v1, v2), v3)}\")\n",
    "print(f\"{v1} + ( {v2} + {v3} ) = {np.add(v1, np.add(v2, v3))}\\n\")\n",
    "\n",
    "print(\"Commutativity of addition\")\n",
    "print(f\"{v1} + {v2} = {np.add(v1, v2)}\")\n",
    "print(f\"{v2} + {v1} = {np.add(v2, v1)}\\n\")\n",
    "\n",
    "print(\"Identity element of addition\")\n",
    "print(f\"{v1} + 0 = {np.add(v1, 0)}\")\n",
    "print(f\"Which is equal to {v1}\\n\")\n",
    "\n",
    "print(\"Inverse element of addition\")\n",
    "print(f\"{v1} + {np.negative(v1)} = {np.add(v1, np.negative(v1))}\\n\")\n",
    "\n",
    "print(\"Distributivity of scalar mutliplication over vector addition\")\n",
    "print(f\"{sc1} . ({v1} + {v2}) = {np.multiply(sc1, np.add(v1, v2))}\")\n",
    "print(f\"{sc1} . {v1} + {sc1} . {v2}) = {np.add(np.multiply(v1, sc1), np.multiply(v2, sc1))}\")\n",
    "print(f\"{sc1} . ({v1} + {v2}) = {sc1} . {v1} + {sc1} . {v2}\\n\")\n",
    "\n",
    "print(\"Distributivity of scalar mutliplication over field addition\")\n",
    "print(f\"({sc1} + {sc2}) . {v1} = {np.multiply(v1, sc1 + sc2)}\")\n",
    "print(f\"{sc1} . {v1} + {sc2} . {v2} = {np.add(np.multiply(v1, sc1), np.multiply(v2, sc2))}\\n\")\n",
    "\n",
    "print(\"Compatability of scalar mutliplication over field mutliplication\")\n",
    "print(f\"{sc1} . ({sc2} . {v1}) = {np.multiply(sc1, np.multiply(sc2, v1))}\")\n",
    "print(f\"{sc1} . {sc2} . ({v1}) = {np.multiply(sc1 * sc2, v1)}\")\n",
    "print(f\"{sc1} . ({sc2} . {v1}) = {sc1} . {sc2} . ({v1})\\n\")\n",
    "\n",
    "print(\"Identity element of scalar mutliplication\")\n",
    "print(f\"1 . {v1} = {np.multiply(v1, 1)}\")\n",
    "print(f\"Which is equal to {v1}\\n\")\n"
   ]
  },
  {
   "cell_type": "code",
   "execution_count": null,
   "id": "b3c0571b-8c09-4858-9e4d-2440736abb2e",
   "metadata": {},
   "outputs": [],
   "source": []
  }
 ],
 "metadata": {
  "kernelspec": {
   "display_name": "Python 3 (ipykernel)",
   "language": "python",
   "name": "python3"
  },
  "language_info": {
   "codemirror_mode": {
    "name": "ipython",
    "version": 3
   },
   "file_extension": ".py",
   "mimetype": "text/x-python",
   "name": "python",
   "nbconvert_exporter": "python",
   "pygments_lexer": "ipython3",
   "version": "3.12.7"
  }
 },
 "nbformat": 4,
 "nbformat_minor": 5
}
